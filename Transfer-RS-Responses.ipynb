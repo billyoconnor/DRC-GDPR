{
 "cells": [
  {
   "cell_type": "code",
   "execution_count": 1,
   "metadata": {},
   "outputs": [],
   "source": [
    "%matplotlib inline\n",
    "import numpy as np\n",
    "import pandas as pd\n",
    "import matplotlib as mlb\n",
    "import matplotlib.pyplot as plt\n",
    "import seaborn as sns\n",
    "import os"
   ]
  },
  {
   "cell_type": "code",
   "execution_count": 2,
   "metadata": {},
   "outputs": [],
   "source": [
    "#sns.set(style=\"whitegrid\", context=\"talk\")\n",
    "sns.set(style=\"whitegrid\")\n",
    "sns.set_color_codes(\"dark\")"
   ]
  },
  {
   "cell_type": "code",
   "execution_count": 3,
   "metadata": {},
   "outputs": [],
   "source": [
    "PRACTICE = 'Connectivity'"
   ]
  },
  {
   "cell_type": "code",
   "execution_count": 4,
   "metadata": {},
   "outputs": [],
   "source": [
    "os.chdir(u'/home/andy/dev/notebooks/Transfer-RS-Feedback/RS_FEEDBACK/'+PRACTICE)"
   ]
  },
  {
   "cell_type": "code",
   "execution_count": 5,
   "metadata": {},
   "outputs": [
    {
     "data": {
      "text/plain": [
       "u'/home/andy/dev/notebooks/Transfer-RS-Feedback/RS_FEEDBACK/Connectivity'"
      ]
     },
     "execution_count": 5,
     "metadata": {},
     "output_type": "execute_result"
    }
   ],
   "source": [
    "pwd"
   ]
  },
  {
   "cell_type": "code",
   "execution_count": 11,
   "metadata": {},
   "outputs": [
    {
     "name": "stdout",
     "output_type": "stream",
     "text": [
      "GDPR-RS-EPS118-Consolidated Spend Analytics-V3.1 REVIEWED 13-04-2018.xlsx\n",
      "Entity count: 4\n",
      "GDPR-RS-EPS042-BES-V3.1 REVIEWED 12-04-2018.xlsx\n",
      "Entity count: 2\n",
      "GDPR-RS-EPS033-Dedicated Internet Access-(DIAoMSP)-V3.1 REVIEWED.xlsx\n",
      "Entity count: 3\n",
      "GDPR-RS-EPS022-BYOx-V3.3 REVIEWED-28-03-2018.XLSX\n",
      "Entity count: 4\n",
      "GDPR-RS-EPS012-VDM-Mobile Iron-V3.1 REVIEWED 09-04-2018.xlsx\n",
      "Entity count: 4\n",
      "GDPR-RS-EPS28-VMH-3.1 REVIEWED 12-04-2018.xlsx\n",
      "Entity count: 4\n",
      "GDPR-RS-EPS029-IP-VPN-V3.1 REVIEWED 13-04-2018.xlsx\n",
      "Entity count: 4\n",
      "GDPR-RS-EPS072-VSDM-Airwatch-V3.1 REVIEWED 09-04-2018.xlsx\n",
      "Entity count: 3\n",
      "GDPR-RS-EPS027-International Voice Connect-V3.1 REVIEWED 13-04-2018.xlsx\n",
      "Entity count: 1\n",
      "GDPR-RS-EPS156-DIALegacy-V3.2 REVIEWED 18-04-2018-Final.xlsx\n",
      "Entity count: 4\n",
      "GDPR-RS-EPS158-Dedicated Ethernet-V3.1 REVIEWED 13-04-18.xlsx\n",
      "Entity count: 4\n",
      "GDPR-RS-EPS121-Global WAN-LAN-V3.1 REVIEWED 13-04-2018L.xlsx\n",
      "Entity count: 4\n",
      "GDPR-RS-EPS081-NI-S-Phase2-Web Security-V3.1 REVIEWED 09-04-2018.xlsx\n",
      "Entity count: 1\n",
      "GDPR-RS-EPS021-VTR-V3.1  REVIEWED 28-03-2018.xlsx\n",
      "Entity count: 4\n",
      "GDPR-RS-EPS010-Managed Firewall on Premises-V3.1 REVIEWED 11-04-2018.XLSX\n",
      "Entity count: 1\n",
      "GDPR-RS-EPS031-Ethernet-V1.1 REVIEWED 13-04-2018.xlsx\n",
      "Entity count: 4\n",
      "GDPR-RS-EPS080-NI-S-Phase1-V3.1 REVIEWED-28-03-2018.xlsx\n",
      "Entity count: 5\n"
     ]
    }
   ],
   "source": [
    "first = True\n",
    "\n",
    "for filename in os.listdir(os.getcwd()):\n",
    "    df = pd.read_excel(filename, sheet_name=None)\n",
    "    \n",
    "    sheet_names = df.keys()\n",
    "    sheets = sheet_names[4:-1]\n",
    "\n",
    "    print filename\n",
    "\n",
    "    entity_count = len(sheets)\n",
    "    print(\"Entity count: {0:d}\".format(entity_count))\n",
    "    \n",
    "    for sh in sheets:\n",
    "        if sh == u'PII Data Record': #this is an odd bug!\n",
    "            print \"this is odd! PII Data\"\n",
    "            continue\n",
    "        df[sh].insert(loc=0, column='Filename', value=filename)\n",
    "        df[sh].drop(0, inplace=True)\n",
    "        df[sh].fillna('No Response', inplace=True)\n",
    "        if first:\n",
    "            out_df = df[sh][['Filename','Req Ref',\\\n",
    "                             'Req nr',\\\n",
    "                             'Compliance Assessment',\\\n",
    "                             'Response',\\\n",
    "                             'Remediation Project Ref',\\\n",
    "                             'Response Comments']].copy()\n",
    "            first = False\n",
    "        else:\n",
    "            cp_df = df[sh][['Filename','Req Ref',\\\n",
    "                            'Req nr',\\\n",
    "                            'Compliance Assessment',\\\n",
    "                            'Response',\\\n",
    "                            'Remediation Project Ref',\\\n",
    "                            'Response Comments']].copy()\n",
    "            out_df = pd.concat([out_df, cp_df], axis=0, ignore_index=True, copy=True)"
   ]
  },
  {
   "cell_type": "code",
   "execution_count": 12,
   "metadata": {},
   "outputs": [],
   "source": [
    "output_writer = pd.ExcelWriter('../REMEDIATION_STATS.xlsx')\n",
    "out_df.to_excel(output_writer, 'REMEDIATION STATS')\n",
    "output_writer.save()"
   ]
  },
  {
   "cell_type": "code",
   "execution_count": 13,
   "metadata": {},
   "outputs": [
    {
     "data": {
      "text/plain": [
       "Text(0.5,1,u'Connectivity Response')"
      ]
     },
     "execution_count": 13,
     "metadata": {},
     "output_type": "execute_result"
    },
    {
     "data": {
      "image/png": "[encoded data removed]",
      "text/plain": [
       "<matplotlib.figure.Figure at 0x7f74fd9d4d10>"
      ]
     },
     "metadata": {},
     "output_type": "display_data"
    }
   ],
   "source": [
    "fig, ax = plt.subplots(figsize=(10,10))\n",
    "\n",
    "ax = sns.countplot(data=out_df, ax=ax, x='Response', saturation=1, palette='Set3')\n",
    "ax.set_ylabel(\"Response Type Count\")\n",
    "ax.set_title(PRACTICE+\" Response\")"
   ]
  },
  {
   "cell_type": "code",
   "execution_count": 14,
   "metadata": {},
   "outputs": [],
   "source": [
    "fig.savefig(\"../\"+PRACTICE+\"_fig.png\")"
   ]
  },
  {
   "cell_type": "code",
   "execution_count": 15,
   "metadata": {},
   "outputs": [
    {
     "data": {
      "text/html": [
       "<div>\n",
       "<style scoped>\n",
       "    .dataframe tbody tr th:only-of-type {\n",
       "        vertical-align: middle;\n",
       "    }\n",
       "\n",
       "    .dataframe tbody tr th {\n",
       "        vertical-align: top;\n",
       "    }\n",
       "\n",
       "    .dataframe thead th {\n",
       "        text-align: right;\n",
       "    }\n",
       "</style>\n",
       "<table border=\"1\" class=\"dataframe\">\n",
       "  <thead>\n",
       "    <tr style=\"text-align: right;\">\n",
       "      <th></th>\n",
       "      <th>Filename</th>\n",
       "      <th>Req Ref</th>\n",
       "      <th>Req nr</th>\n",
       "      <th>Compliance Assessment</th>\n",
       "      <th>Response</th>\n",
       "      <th>Remediation Project Ref</th>\n",
       "      <th>Response Comments</th>\n",
       "    </tr>\n",
       "  </thead>\n",
       "  <tbody>\n",
       "    <tr>\n",
       "      <th>0</th>\n",
       "      <td>GDPR-RS-EPS118-Consolidated Spend Analytics-V3...</td>\n",
       "      <td>EPS118-PCA-4H-A</td>\n",
       "      <td>4H</td>\n",
       "      <td>NON-COMPLIANT</td>\n",
       "      <td>Acknowledged</td>\n",
       "      <td>No Response</td>\n",
       "      <td>Action on Product team to contact James Taylor...</td>\n",
       "    </tr>\n",
       "    <tr>\n",
       "      <th>1</th>\n",
       "      <td>GDPR-RS-EPS118-Consolidated Spend Analytics-V3...</td>\n",
       "      <td>EPS118-PCA-11H-A</td>\n",
       "      <td>11H</td>\n",
       "      <td>PARTIALLY COMPLIANT</td>\n",
       "      <td>Rejected</td>\n",
       "      <td>No Response</td>\n",
       "      <td>Not Applicable</td>\n",
       "    </tr>\n",
       "    <tr>\n",
       "      <th>2</th>\n",
       "      <td>GDPR-RS-EPS118-Consolidated Spend Analytics-V3...</td>\n",
       "      <td>EPS118-PCA-11V-A</td>\n",
       "      <td>11V</td>\n",
       "      <td>PARTIALLY COMPLIANT</td>\n",
       "      <td>Rejected</td>\n",
       "      <td>No Response</td>\n",
       "      <td>Terms of usage for CSA data are covered by leg...</td>\n",
       "    </tr>\n",
       "    <tr>\n",
       "      <th>3</th>\n",
       "      <td>GDPR-RS-EPS118-Consolidated Spend Analytics-V3...</td>\n",
       "      <td>EPS118-PCA-12V-A</td>\n",
       "      <td>12V</td>\n",
       "      <td>PARTIALLY COMPLIANT</td>\n",
       "      <td>Rejected</td>\n",
       "      <td>No Response</td>\n",
       "      <td>not applicable</td>\n",
       "    </tr>\n",
       "    <tr>\n",
       "      <th>4</th>\n",
       "      <td>GDPR-RS-EPS118-Consolidated Spend Analytics-V3...</td>\n",
       "      <td>EPS118-PCA-49H-A</td>\n",
       "      <td>49H</td>\n",
       "      <td>PARTIALLY COMPLIANT</td>\n",
       "      <td>Acknowledged</td>\n",
       "      <td>No Response</td>\n",
       "      <td>Support/test teams make use of anonymization t...</td>\n",
       "    </tr>\n",
       "  </tbody>\n",
       "</table>\n",
       "</div>"
      ],
      "text/plain": [
       "                                            Filename           Req Ref Req nr  \\\n",
       "0  GDPR-RS-EPS118-Consolidated Spend Analytics-V3...   EPS118-PCA-4H-A     4H   \n",
       "1  GDPR-RS-EPS118-Consolidated Spend Analytics-V3...  EPS118-PCA-11H-A    11H   \n",
       "2  GDPR-RS-EPS118-Consolidated Spend Analytics-V3...  EPS118-PCA-11V-A    11V   \n",
       "3  GDPR-RS-EPS118-Consolidated Spend Analytics-V3...  EPS118-PCA-12V-A    12V   \n",
       "4  GDPR-RS-EPS118-Consolidated Spend Analytics-V3...  EPS118-PCA-49H-A    49H   \n",
       "\n",
       "  Compliance Assessment      Response Remediation Project Ref  \\\n",
       "0        NON-COMPLIANT   Acknowledged             No Response   \n",
       "1  PARTIALLY COMPLIANT       Rejected             No Response   \n",
       "2  PARTIALLY COMPLIANT       Rejected             No Response   \n",
       "3  PARTIALLY COMPLIANT       Rejected             No Response   \n",
       "4  PARTIALLY COMPLIANT   Acknowledged             No Response   \n",
       "\n",
       "                                   Response Comments  \n",
       "0  Action on Product team to contact James Taylor...  \n",
       "1                                     Not Applicable  \n",
       "2  Terms of usage for CSA data are covered by leg...  \n",
       "3                                     not applicable  \n",
       "4  Support/test teams make use of anonymization t...  "
      ]
     },
     "execution_count": 15,
     "metadata": {},
     "output_type": "execute_result"
    }
   ],
   "source": [
    "out_df.head()"
   ]
  },
  {
   "cell_type": "code",
   "execution_count": 16,
   "metadata": {},
   "outputs": [
    {
     "data": {
      "text/plain": [
       "0          NON-COMPLIANT \n",
       "1    PARTIALLY COMPLIANT \n",
       "2    PARTIALLY COMPLIANT \n",
       "3    PARTIALLY COMPLIANT \n",
       "4    PARTIALLY COMPLIANT \n",
       "Name: Compliance Assessment, dtype: object"
      ]
     },
     "execution_count": 16,
     "metadata": {},
     "output_type": "execute_result"
    }
   ],
   "source": [
    "out_df['Compliance Assessment'].head()"
   ]
  },
  {
   "cell_type": "code",
   "execution_count": 17,
   "metadata": {},
   "outputs": [],
   "source": [
    "percent = float(23.0/10.0)"
   ]
  },
  {
   "cell_type": "code",
   "execution_count": 18,
   "metadata": {},
   "outputs": [
    {
     "data": {
      "text/plain": [
       "2.3"
      ]
     },
     "execution_count": 18,
     "metadata": {},
     "output_type": "execute_result"
    }
   ],
   "source": [
    "percent"
   ]
  },
  {
   "cell_type": "code",
   "execution_count": 19,
   "metadata": {},
   "outputs": [],
   "source": [
    "COLUMNS = {'PRIVACY_REQUIREMENT_CONTENT', 'REQ_NO', 'VERTICAL', 'HORIZONTAL', 'HYBRID', 'PC', 'NC'}\n",
    "\n",
    "INDEX = ['A', 'B', 'C', 'D', 'E', 'F', 'G', 'H', 'I', 'J']\n",
    "\n",
    "req_content = ['']\n",
    "vertical = [15, ]\n",
    "\n",
    "uc_risk_df = pd.DataFrame(columns=COLUMNS, index=INDEX)\n"
   ]
  },
  {
   "cell_type": "code",
   "execution_count": 20,
   "metadata": {},
   "outputs": [
    {
     "data": {
      "text/html": [
       "<div>\n",
       "<style scoped>\n",
       "    .dataframe tbody tr th:only-of-type {\n",
       "        vertical-align: middle;\n",
       "    }\n",
       "\n",
       "    .dataframe tbody tr th {\n",
       "        vertical-align: top;\n",
       "    }\n",
       "\n",
       "    .dataframe thead th {\n",
       "        text-align: right;\n",
       "    }\n",
       "</style>\n",
       "<table border=\"1\" class=\"dataframe\">\n",
       "  <thead>\n",
       "    <tr style=\"text-align: right;\">\n",
       "      <th></th>\n",
       "      <th>PRIVACY_REQUIREMENT_CONTENT</th>\n",
       "      <th>VERTICAL</th>\n",
       "      <th>NC</th>\n",
       "      <th>HYBRID</th>\n",
       "      <th>PC</th>\n",
       "      <th>REQ_NO</th>\n",
       "      <th>HORIZONTAL</th>\n",
       "    </tr>\n",
       "  </thead>\n",
       "  <tbody>\n",
       "    <tr>\n",
       "      <th>A</th>\n",
       "      <td>NaN</td>\n",
       "      <td>NaN</td>\n",
       "      <td>NaN</td>\n",
       "      <td>NaN</td>\n",
       "      <td>NaN</td>\n",
       "      <td>NaN</td>\n",
       "      <td>NaN</td>\n",
       "    </tr>\n",
       "    <tr>\n",
       "      <th>B</th>\n",
       "      <td>NaN</td>\n",
       "      <td>NaN</td>\n",
       "      <td>NaN</td>\n",
       "      <td>NaN</td>\n",
       "      <td>NaN</td>\n",
       "      <td>NaN</td>\n",
       "      <td>NaN</td>\n",
       "    </tr>\n",
       "    <tr>\n",
       "      <th>C</th>\n",
       "      <td>NaN</td>\n",
       "      <td>NaN</td>\n",
       "      <td>NaN</td>\n",
       "      <td>NaN</td>\n",
       "      <td>NaN</td>\n",
       "      <td>NaN</td>\n",
       "      <td>NaN</td>\n",
       "    </tr>\n",
       "    <tr>\n",
       "      <th>D</th>\n",
       "      <td>NaN</td>\n",
       "      <td>NaN</td>\n",
       "      <td>NaN</td>\n",
       "      <td>NaN</td>\n",
       "      <td>NaN</td>\n",
       "      <td>NaN</td>\n",
       "      <td>NaN</td>\n",
       "    </tr>\n",
       "    <tr>\n",
       "      <th>E</th>\n",
       "      <td>NaN</td>\n",
       "      <td>NaN</td>\n",
       "      <td>NaN</td>\n",
       "      <td>NaN</td>\n",
       "      <td>NaN</td>\n",
       "      <td>NaN</td>\n",
       "      <td>NaN</td>\n",
       "    </tr>\n",
       "    <tr>\n",
       "      <th>F</th>\n",
       "      <td>NaN</td>\n",
       "      <td>NaN</td>\n",
       "      <td>NaN</td>\n",
       "      <td>NaN</td>\n",
       "      <td>NaN</td>\n",
       "      <td>NaN</td>\n",
       "      <td>NaN</td>\n",
       "    </tr>\n",
       "    <tr>\n",
       "      <th>G</th>\n",
       "      <td>NaN</td>\n",
       "      <td>NaN</td>\n",
       "      <td>NaN</td>\n",
       "      <td>NaN</td>\n",
       "      <td>NaN</td>\n",
       "      <td>NaN</td>\n",
       "      <td>NaN</td>\n",
       "    </tr>\n",
       "    <tr>\n",
       "      <th>H</th>\n",
       "      <td>NaN</td>\n",
       "      <td>NaN</td>\n",
       "      <td>NaN</td>\n",
       "      <td>NaN</td>\n",
       "      <td>NaN</td>\n",
       "      <td>NaN</td>\n",
       "      <td>NaN</td>\n",
       "    </tr>\n",
       "    <tr>\n",
       "      <th>I</th>\n",
       "      <td>NaN</td>\n",
       "      <td>NaN</td>\n",
       "      <td>NaN</td>\n",
       "      <td>NaN</td>\n",
       "      <td>NaN</td>\n",
       "      <td>NaN</td>\n",
       "      <td>NaN</td>\n",
       "    </tr>\n",
       "    <tr>\n",
       "      <th>J</th>\n",
       "      <td>NaN</td>\n",
       "      <td>NaN</td>\n",
       "      <td>NaN</td>\n",
       "      <td>NaN</td>\n",
       "      <td>NaN</td>\n",
       "      <td>NaN</td>\n",
       "      <td>NaN</td>\n",
       "    </tr>\n",
       "  </tbody>\n",
       "</table>\n",
       "</div>"
      ],
      "text/plain": [
       "  PRIVACY_REQUIREMENT_CONTENT VERTICAL   NC HYBRID   PC REQ_NO HORIZONTAL\n",
       "A                         NaN      NaN  NaN    NaN  NaN    NaN        NaN\n",
       "B                         NaN      NaN  NaN    NaN  NaN    NaN        NaN\n",
       "C                         NaN      NaN  NaN    NaN  NaN    NaN        NaN\n",
       "D                         NaN      NaN  NaN    NaN  NaN    NaN        NaN\n",
       "E                         NaN      NaN  NaN    NaN  NaN    NaN        NaN\n",
       "F                         NaN      NaN  NaN    NaN  NaN    NaN        NaN\n",
       "G                         NaN      NaN  NaN    NaN  NaN    NaN        NaN\n",
       "H                         NaN      NaN  NaN    NaN  NaN    NaN        NaN\n",
       "I                         NaN      NaN  NaN    NaN  NaN    NaN        NaN\n",
       "J                         NaN      NaN  NaN    NaN  NaN    NaN        NaN"
      ]
     },
     "execution_count": 20,
     "metadata": {},
     "output_type": "execute_result"
    }
   ],
   "source": [
    "uc_risk_df"
   ]
  },
  {
   "cell_type": "code",
   "execution_count": null,
   "metadata": {},
   "outputs": [],
   "source": []
  },
  {
   "cell_type": "code",
   "execution_count": null,
   "metadata": {},
   "outputs": [],
   "source": []
  }
 ],
 "metadata": {
  "kernelspec": {
   "display_name": "Python 2",
   "language": "python",
   "name": "python2"
  },
  "language_info": {
   "codemirror_mode": {
    "name": "ipython",
    "version": 2
   },
   "file_extension": ".py",
   "mimetype": "text/x-python",
   "name": "python",
   "nbconvert_exporter": "python",
   "pygments_lexer": "ipython2",
   "version": "2.7.14"
  }
 },
 "nbformat": 4,
 "nbformat_minor": 2
}
