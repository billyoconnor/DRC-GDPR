{
 "cells": [
  {
   "cell_type": "code",
   "execution_count": 131,
   "metadata": {},
   "outputs": [],
   "source": [
    "%matplotlib inline\n",
    "import numpy as np\n",
    "import pandas as pd\n",
    "import matplotlib as mlb\n",
    "import matplotlib.pyplot as plt\n",
    "import seaborn as sns\n",
    "import os\n",
    "from datetime import datetime"
   ]
  },
  {
   "cell_type": "code",
   "execution_count": 132,
   "metadata": {},
   "outputs": [],
   "source": [
    "#sns.set(style=\"whitegrid\", context=\"talk\")\n",
    "sns.set(style=\"whitegrid\")\n",
    "sns.set_color_codes(\"dark\")\n",
    "\n",
    "today = datetime.now().strftime('%d-%m-%Y')\n",
    "week_num = datetime.now().strftime('%W')\n",
    "\n"
   ]
  },
  {
   "cell_type": "code",
   "execution_count": 133,
   "metadata": {},
   "outputs": [
    {
     "data": {
      "text/plain": [
       "'18'"
      ]
     },
     "execution_count": 133,
     "metadata": {},
     "output_type": "execute_result"
    }
   ],
   "source": [
    "week_num"
   ]
  },
  {
   "cell_type": "code",
   "execution_count": 134,
   "metadata": {},
   "outputs": [],
   "source": [
    "PRACTICE = 'All'\n",
    "FOLDER = '/020518'"
   ]
  },
  {
   "cell_type": "code",
   "execution_count": 135,
   "metadata": {},
   "outputs": [],
   "source": [
    "os.chdir(u'/home/andy/dev/notebooks/Transfer-RS-Feedback/RS_FEEDBACK/'+PRACTICE+FOLDER)"
   ]
  },
  {
   "cell_type": "code",
   "execution_count": 136,
   "metadata": {},
   "outputs": [
    {
     "data": {
      "text/plain": [
       "u'/home/andy/dev/notebooks/Transfer-RS-Feedback/RS_FEEDBACK/All/020518'"
      ]
     },
     "execution_count": 136,
     "metadata": {},
     "output_type": "execute_result"
    }
   ],
   "source": [
    "pwd"
   ]
  },
  {
   "cell_type": "code",
   "execution_count": 137,
   "metadata": {},
   "outputs": [
    {
     "name": "stdout",
     "output_type": "stream",
     "text": [
      "GDPR-RS-EPS029-IP-VPN--V4.1 300418.xlsx\n",
      "Entity count: 4\n",
      "GDPR-RS-EPS033-Dedicated Internet Access  (DIAoMSP)-V4.1 300418.xlsx\n",
      "Entity count: 3\n",
      "GDPR-RS-EPS028-Vodafone Messaging Hub-V4.1 300418.xlsx\n",
      "Entity count: 4\n",
      "GDPR-RS-EPS158-Dedicated Ethernet-V4.1 300418.xlsx\n",
      "Entity count: 4\n",
      "GDPR-RS-EPS031-Ethernet-V4.1 300418.xlsx\n",
      "Entity count: 4\n",
      "GDPR-RS-EPS118-Consolidated Spend Analytics-V4.1 300418.xlsx\n",
      "Entity count: 4\n",
      "GDPR-RS-EPS121-Global WAN-LAN--V4.1 300418.xlsx\n",
      "Entity count: 4\n",
      "GDPR-RS-EPS027-International Voice Connect (IVC)-V4.1 300418.xlsx\n",
      "Entity count: 1\n",
      "GDPR-RS-EPS156-DIA (Legacy)-V4.1 300418.xlsx\n",
      "Entity count: 4\n"
     ]
    }
   ],
   "source": [
    "first = True\n",
    "\n",
    "for filename in os.listdir(os.getcwd()):\n",
    "    df = pd.read_excel(filename, sheet_name=None)\n",
    "    \n",
    "    sheet_names = df.keys()\n",
    "    sheets = sheet_names[4:-1]\n",
    "\n",
    "    print filename\n",
    "\n",
    "    entity_count = len(sheets)\n",
    "    print(\"Entity count: {0:d}\".format(entity_count))\n",
    "    \n",
    "    for sh in sheets:\n",
    "        if sh == u'PII Data Record': #this is an odd bug!\n",
    "            print \"this is odd! PII Data\"\n",
    "            continue\n",
    "        df[sh].insert(loc=0, column='Filename', value=filename)\n",
    "        df[sh].drop(0, inplace=True)\n",
    "        df[sh]['Response'].fillna('No Response', inplace=True)\n",
    "        df[sh]['Remediation Project Ref'].fillna('No Response', inplace=True)\n",
    "        df[sh]['Response Comments'].fillna('', inplace=True)\n",
    "        df[sh]['Delivery Date'].fillna('', inplace=True)\n",
    "        df[sh]['Compliance Assessment'].fillna('N/A', inplace=True)\n",
    "        if first:\n",
    "            out_df = df[sh][['Filename','Req Ref',\\\n",
    "                             'Req nr',\\\n",
    "                             'Compliance Assessment',\\\n",
    "                             'Response',\\\n",
    "                             'Response Comments',\\\n",
    "                             'Delivery Date',\\\n",
    "                             'Remediation Project Ref']].copy()\n",
    "            out_df['Entity Count'] = entity_count\n",
    "            first = False\n",
    "        else:\n",
    "            cp_df = df[sh][['Filename','Req Ref',\\\n",
    "                            'Req nr',\\\n",
    "                            'Compliance Assessment',\\\n",
    "                            'Response',\\\n",
    "                            'Response Comments',\\\n",
    "                            'Delivery Date',\\\n",
    "                            'Remediation Project Ref']].copy()\n",
    "            out_df['Entity Count'] = entity_count\n",
    "            out_df = pd.concat([out_df, cp_df], axis=0, ignore_index=True, copy=True)"
   ]
  },
  {
   "cell_type": "code",
   "execution_count": 138,
   "metadata": {},
   "outputs": [],
   "source": [
    "#out_df[out_df['Req Ref'].str.contains(\"EPS118-PCA-76V\")]\n",
    "\n",
    "#add product column\n",
    "out_df['Product Ref'] = out_df['Req Ref'].str.slice(0, -2)\n",
    "\n",
    "out_df['Product ID'] = out_df['Req Ref'].str.slice(3, 6)\n",
    "\n",
    "out_df['Category'] = out_df['Req Ref'].str.slice(7, 10)\n",
    "\n",
    "#out_df.drop_duplicates(['Product Ref'], keep='first', inplace=True)\n",
    "\n",
    "mapping = {'No Response':'No Project Code'}\n",
    "\n",
    "out_df['Orphan'] = out_df['Remediation Project Ref'].map(lambda x: mapping.get(x, 'Project Code Allocated'))\n",
    "\n",
    "#out_df[out_df['Product ID'] == '022'].head(50)\n",
    "#out_df.head()"
   ]
  },
  {
   "cell_type": "code",
   "execution_count": 139,
   "metadata": {},
   "outputs": [],
   "source": [
    "iot_set = set([67,68,89,90,91,94,97,101,102,103,109,110])\n",
    "cloud_set = set([43,44,46,16,49,52,54,55,56,57,59,62,63,64,176,189,117,116])\n",
    "connectivity_set = set([10,12,21,22,24,27,28,29,31,33,42,66,72,80,81,118,121,156,158])\n",
    "eit_set = set([126,136,141,128,130,129,198,127,1])\n",
    "uc_set = set([2,4,5,7,8,9,14,70,71,87,123,193,194,195,147])\n",
    "\n",
    "iot_cols = [67,68,89,90,91,94,97,101,102,103,109,110]\n",
    "cloud_cols = [43,44,46,16,49,52,54,55,56,57,59,62,63,64,176,189,117,116]\n",
    "connectivity_cols = [10,12,21,22,27,28,29,31,33,42,66,72,80,81,118,121,156,158]\n",
    "eit_cols = [126,136,141,128,130,129,198,127,1]\n",
    "uc_cols = [2,4,5,7,8,9,14,70,71,87,123,193,194,195,147]"
   ]
  },
  {
   "cell_type": "code",
   "execution_count": 140,
   "metadata": {},
   "outputs": [],
   "source": [
    "def return_practice( prod_id ):\n",
    "    if int(prod_id) in iot_set:\n",
    "        return 'IoT'\n",
    "    elif int(prod_id) in cloud_set:\n",
    "        return 'Cloud'\n",
    "    elif int(prod_id) in connectivity_set:\n",
    "        return 'Connectivity'\n",
    "    elif int(prod_id) in eit_set:\n",
    "        return 'EIT'\n",
    "    elif int(prod_id) in uc_set:\n",
    "        return 'UC'\n",
    "    else:\n",
    "        return 'Unknown Practice'\n",
    "\n",
    "out_df['Practice'] = out_df['Product ID'].map(lambda x: return_practice(x))\n"
   ]
  },
  {
   "cell_type": "code",
   "execution_count": 141,
   "metadata": {},
   "outputs": [],
   "source": [
    "out_df['Approved by DPO:'] = \"\"\n",
    "out_df['If Approved, change to ?'] = \"\"\n",
    "out_df['New Comment to be inserted into RS and DPIA'] = \"\""
   ]
  },
  {
   "cell_type": "code",
   "execution_count": 142,
   "metadata": {},
   "outputs": [],
   "source": [
    "output_writer = pd.ExcelWriter('../'+PRACTICE+'-REMEDIATION-STATS-Week'+week_num+'-'+today+'.xlsx')\n",
    "out_df.to_excel(output_writer, 'REMEDIATION STATS')\n",
    "output_writer.save()"
   ]
  },
  {
   "cell_type": "code",
   "execution_count": 143,
   "metadata": {},
   "outputs": [
    {
     "data": {
      "text/plain": [
       "Text(0.5,1,u'Chart to show all requirements and their response types: All 02-05-2018')"
      ]
     },
     "execution_count": 143,
     "metadata": {},
     "output_type": "execute_result"
    },
    {
     "data": {
      "image/png": "[encoded data removed]",
      "text/plain": [
       "<matplotlib.figure.Figure at 0x7fe8426c3f50>"
      ]
     },
     "metadata": {},
     "output_type": "display_data"
    }
   ],
   "source": [
    "fig, ax = plt.subplots(figsize=(15,10))\n",
    "\n",
    "ax = sns.countplot(data=out_df, ax=ax, x='Response', saturation=1, palette='Set3')\n",
    "ax.set_ylabel(\"Response Type Count\")\n",
    "ax.set_title(\"Chart to show all requirements and their response types: \"+PRACTICE+\" \"+today)"
   ]
  },
  {
   "cell_type": "code",
   "execution_count": 144,
   "metadata": {},
   "outputs": [],
   "source": [
    "fig.savefig(\"../\"+PRACTICE+\"-fig-\"+today+\".png\")"
   ]
  },
  {
   "cell_type": "code",
   "execution_count": 145,
   "metadata": {},
   "outputs": [
    {
     "data": {
      "text/plain": [
       "Text(0.5,1,u'Chart to show projects that do not have a project code assigned: All 02-05-2018')"
      ]
     },
     "execution_count": 145,
     "metadata": {},
     "output_type": "execute_result"
    },
    {
     "data": {
      "image/png": "[encoded data removed]",
      "text/plain": [
       "<matplotlib.figure.Figure at 0x7fe842da83d0>"
      ]
     },
     "metadata": {},
     "output_type": "display_data"
    }
   ],
   "source": [
    "fig, ax = plt.subplots(figsize=(15,10))\n",
    "\n",
    "ax = sns.countplot(data=out_df, ax=ax, x='Orphan', saturation=1, palette='Set3')\n",
    "ax.set_ylabel(\"Yes/No Project Count\")\n",
    "ax.set_xlabel(\"\")\n",
    "ax.set_title(\"Chart to show projects that do not have a project code assigned: \"+PRACTICE+\" \"+today)"
   ]
  },
  {
   "cell_type": "code",
   "execution_count": 146,
   "metadata": {},
   "outputs": [
    {
     "data": {
      "text/html": [
       "<div>\n",
       "<style scoped>\n",
       "    .dataframe tbody tr th:only-of-type {\n",
       "        vertical-align: middle;\n",
       "    }\n",
       "\n",
       "    .dataframe tbody tr th {\n",
       "        vertical-align: top;\n",
       "    }\n",
       "\n",
       "    .dataframe thead th {\n",
       "        text-align: right;\n",
       "    }\n",
       "</style>\n",
       "<table border=\"1\" class=\"dataframe\">\n",
       "  <thead>\n",
       "    <tr style=\"text-align: right;\">\n",
       "      <th></th>\n",
       "      <th>Compliance Assessment</th>\n",
       "      <th>Delivery Date</th>\n",
       "      <th>Entity Count</th>\n",
       "      <th>Filename</th>\n",
       "      <th>Remediation Project Ref</th>\n",
       "      <th>Req Ref</th>\n",
       "      <th>Req nr</th>\n",
       "      <th>Response</th>\n",
       "      <th>Response Comments</th>\n",
       "      <th>Product Ref</th>\n",
       "      <th>Product ID</th>\n",
       "      <th>Category</th>\n",
       "      <th>Orphan</th>\n",
       "      <th>Practice</th>\n",
       "      <th>Approved by DPO:</th>\n",
       "      <th>If Approved, change to ?</th>\n",
       "      <th>New Comment to be inserted into RS and DPIA</th>\n",
       "    </tr>\n",
       "  </thead>\n",
       "  <tbody>\n",
       "    <tr>\n",
       "      <th>0</th>\n",
       "      <td>NON-COMPLIANT</td>\n",
       "      <td>tbc</td>\n",
       "      <td>4.0</td>\n",
       "      <td>GDPR-RS-EPS029-IP-VPN--V4.1 300418.xlsx</td>\n",
       "      <td>EPS-PCA-1H</td>\n",
       "      <td>EPS029-PCA-1H-A</td>\n",
       "      <td>1H</td>\n",
       "      <td>Acknowledged</td>\n",
       "      <td>Horizontal - PM to track</td>\n",
       "      <td>EPS029-PCA-1H</td>\n",
       "      <td>029</td>\n",
       "      <td>PCA</td>\n",
       "      <td>Project Code Allocated</td>\n",
       "      <td>Connectivity</td>\n",
       "      <td></td>\n",
       "      <td></td>\n",
       "      <td></td>\n",
       "    </tr>\n",
       "    <tr>\n",
       "      <th>1</th>\n",
       "      <td>NON-COMPLIANT</td>\n",
       "      <td>2018-03-31 00:00:00</td>\n",
       "      <td>4.0</td>\n",
       "      <td>GDPR-RS-EPS029-IP-VPN--V4.1 300418.xlsx</td>\n",
       "      <td>GE-PCA-2H</td>\n",
       "      <td>EPS029-PCA-2H-A</td>\n",
       "      <td>2H</td>\n",
       "      <td>Acknowledged</td>\n",
       "      <td>Horizontal - PM to track</td>\n",
       "      <td>EPS029-PCA-2H</td>\n",
       "      <td>029</td>\n",
       "      <td>PCA</td>\n",
       "      <td>Project Code Allocated</td>\n",
       "      <td>Connectivity</td>\n",
       "      <td></td>\n",
       "      <td></td>\n",
       "      <td></td>\n",
       "    </tr>\n",
       "    <tr>\n",
       "      <th>2</th>\n",
       "      <td>NON-COMPLIANT</td>\n",
       "      <td></td>\n",
       "      <td>4.0</td>\n",
       "      <td>GDPR-RS-EPS029-IP-VPN--V4.1 300418.xlsx</td>\n",
       "      <td>No Response</td>\n",
       "      <td>EPS029-PCA-11H-A</td>\n",
       "      <td>11H</td>\n",
       "      <td>No Response</td>\n",
       "      <td></td>\n",
       "      <td>EPS029-PCA-11H</td>\n",
       "      <td>029</td>\n",
       "      <td>PCA</td>\n",
       "      <td>No Project Code</td>\n",
       "      <td>Connectivity</td>\n",
       "      <td></td>\n",
       "      <td></td>\n",
       "      <td></td>\n",
       "    </tr>\n",
       "    <tr>\n",
       "      <th>3</th>\n",
       "      <td>NON-COMPLIANT</td>\n",
       "      <td>2018-10-31 00:00:00</td>\n",
       "      <td>4.0</td>\n",
       "      <td>GDPR-RS-EPS029-IP-VPN--V4.1 300418.xlsx</td>\n",
       "      <td>PRJ03404</td>\n",
       "      <td>EPS029-PCA-11V-A</td>\n",
       "      <td>11V</td>\n",
       "      <td>Acknowledged</td>\n",
       "      <td>• A privacy notice is available here 'VGE Gene...</td>\n",
       "      <td>EPS029-PCA-11V</td>\n",
       "      <td>029</td>\n",
       "      <td>PCA</td>\n",
       "      <td>Project Code Allocated</td>\n",
       "      <td>Connectivity</td>\n",
       "      <td></td>\n",
       "      <td></td>\n",
       "      <td></td>\n",
       "    </tr>\n",
       "    <tr>\n",
       "      <th>4</th>\n",
       "      <td>NON-COMPLIANT</td>\n",
       "      <td></td>\n",
       "      <td>4.0</td>\n",
       "      <td>GDPR-RS-EPS029-IP-VPN--V4.1 300418.xlsx</td>\n",
       "      <td>No Response</td>\n",
       "      <td>EPS029-PCA-12H-A</td>\n",
       "      <td>12H</td>\n",
       "      <td>No Response</td>\n",
       "      <td></td>\n",
       "      <td>EPS029-PCA-12H</td>\n",
       "      <td>029</td>\n",
       "      <td>PCA</td>\n",
       "      <td>No Project Code</td>\n",
       "      <td>Connectivity</td>\n",
       "      <td></td>\n",
       "      <td></td>\n",
       "      <td></td>\n",
       "    </tr>\n",
       "  </tbody>\n",
       "</table>\n",
       "</div>"
      ],
      "text/plain": [
       "  Compliance Assessment        Delivery Date  Entity Count  \\\n",
       "0        NON-COMPLIANT                   tbc           4.0   \n",
       "1        NON-COMPLIANT   2018-03-31 00:00:00           4.0   \n",
       "2        NON-COMPLIANT                                 4.0   \n",
       "3        NON-COMPLIANT   2018-10-31 00:00:00           4.0   \n",
       "4        NON-COMPLIANT                                 4.0   \n",
       "\n",
       "                                  Filename Remediation Project Ref  \\\n",
       "0  GDPR-RS-EPS029-IP-VPN--V4.1 300418.xlsx              EPS-PCA-1H   \n",
       "1  GDPR-RS-EPS029-IP-VPN--V4.1 300418.xlsx               GE-PCA-2H   \n",
       "2  GDPR-RS-EPS029-IP-VPN--V4.1 300418.xlsx             No Response   \n",
       "3  GDPR-RS-EPS029-IP-VPN--V4.1 300418.xlsx                PRJ03404   \n",
       "4  GDPR-RS-EPS029-IP-VPN--V4.1 300418.xlsx             No Response   \n",
       "\n",
       "            Req Ref Req nr      Response  \\\n",
       "0   EPS029-PCA-1H-A     1H  Acknowledged   \n",
       "1   EPS029-PCA-2H-A     2H  Acknowledged   \n",
       "2  EPS029-PCA-11H-A    11H   No Response   \n",
       "3  EPS029-PCA-11V-A    11V  Acknowledged   \n",
       "4  EPS029-PCA-12H-A    12H   No Response   \n",
       "\n",
       "                                   Response Comments     Product Ref  \\\n",
       "0                           Horizontal - PM to track   EPS029-PCA-1H   \n",
       "1                           Horizontal - PM to track   EPS029-PCA-2H   \n",
       "2                                                     EPS029-PCA-11H   \n",
       "3  • A privacy notice is available here 'VGE Gene...  EPS029-PCA-11V   \n",
       "4                                                     EPS029-PCA-12H   \n",
       "\n",
       "  Product ID Category                  Orphan      Practice Approved by DPO:  \\\n",
       "0        029      PCA  Project Code Allocated  Connectivity                    \n",
       "1        029      PCA  Project Code Allocated  Connectivity                    \n",
       "2        029      PCA         No Project Code  Connectivity                    \n",
       "3        029      PCA  Project Code Allocated  Connectivity                    \n",
       "4        029      PCA         No Project Code  Connectivity                    \n",
       "\n",
       "  If Approved, change to ? New Comment to be inserted into RS and DPIA  \n",
       "0                                                                       \n",
       "1                                                                       \n",
       "2                                                                       \n",
       "3                                                                       \n",
       "4                                                                       "
      ]
     },
     "execution_count": 146,
     "metadata": {},
     "output_type": "execute_result"
    }
   ],
   "source": [
    "fig.savefig(\"../\"+PRACTICE+\"-project-codes-fig-\"+today+\".png\")\n",
    "out_df.head()"
   ]
  },
  {
   "cell_type": "code",
   "execution_count": 147,
   "metadata": {},
   "outputs": [
    {
     "data": {
      "text/plain": [
       "Project Code Allocated    1191\n",
       "No Project Code            550\n",
       "Name: Orphan, dtype: int64"
      ]
     },
     "execution_count": 147,
     "metadata": {},
     "output_type": "execute_result"
    }
   ],
   "source": [
    "out_df['Orphan'].value_counts()"
   ]
  },
  {
   "cell_type": "code",
   "execution_count": 148,
   "metadata": {},
   "outputs": [
    {
     "data": {
      "text/plain": [
       "Acknowledged               1115\n",
       "No Response                 427\n",
       "Closed                      105\n",
       "Remediation in progress      48\n",
       "Rejected                     42\n",
       "Completed                     4\n",
       "Name: Response, dtype: int64"
      ]
     },
     "execution_count": 148,
     "metadata": {},
     "output_type": "execute_result"
    }
   ],
   "source": [
    "#pd.get_dummies(out_df['Response'])\n",
    "out_df['Response'].value_counts()"
   ]
  },
  {
   "cell_type": "code",
   "execution_count": null,
   "metadata": {},
   "outputs": [],
   "source": []
  },
  {
   "cell_type": "code",
   "execution_count": 149,
   "metadata": {},
   "outputs": [],
   "source": [
    "COLUMNS = {'PRIVACY_REQUIREMENT_CONTENT', 'REQ_NO', 'VERTICAL', 'HORIZONTAL', 'HYBRID', 'PC', 'NC'}\n",
    "\n",
    "INDEX = ['A', 'B', 'C', 'D', 'E', 'F', 'G', 'H', 'I', 'J']\n",
    "\n",
    "req_content = ['']\n",
    "vertical = [15, ]\n",
    "\n",
    "uc_risk_df = pd.DataFrame(columns=COLUMNS, index=INDEX)\n"
   ]
  },
  {
   "cell_type": "code",
   "execution_count": 150,
   "metadata": {},
   "outputs": [
    {
     "data": {
      "text/html": [
       "<div>\n",
       "<style scoped>\n",
       "    .dataframe tbody tr th:only-of-type {\n",
       "        vertical-align: middle;\n",
       "    }\n",
       "\n",
       "    .dataframe tbody tr th {\n",
       "        vertical-align: top;\n",
       "    }\n",
       "\n",
       "    .dataframe thead th {\n",
       "        text-align: right;\n",
       "    }\n",
       "</style>\n",
       "<table border=\"1\" class=\"dataframe\">\n",
       "  <thead>\n",
       "    <tr style=\"text-align: right;\">\n",
       "      <th></th>\n",
       "      <th>PRIVACY_REQUIREMENT_CONTENT</th>\n",
       "      <th>VERTICAL</th>\n",
       "      <th>NC</th>\n",
       "      <th>HYBRID</th>\n",
       "      <th>PC</th>\n",
       "      <th>REQ_NO</th>\n",
       "      <th>HORIZONTAL</th>\n",
       "    </tr>\n",
       "  </thead>\n",
       "  <tbody>\n",
       "    <tr>\n",
       "      <th>A</th>\n",
       "      <td>NaN</td>\n",
       "      <td>NaN</td>\n",
       "      <td>NaN</td>\n",
       "      <td>NaN</td>\n",
       "      <td>NaN</td>\n",
       "      <td>NaN</td>\n",
       "      <td>NaN</td>\n",
       "    </tr>\n",
       "    <tr>\n",
       "      <th>B</th>\n",
       "      <td>NaN</td>\n",
       "      <td>NaN</td>\n",
       "      <td>NaN</td>\n",
       "      <td>NaN</td>\n",
       "      <td>NaN</td>\n",
       "      <td>NaN</td>\n",
       "      <td>NaN</td>\n",
       "    </tr>\n",
       "    <tr>\n",
       "      <th>C</th>\n",
       "      <td>NaN</td>\n",
       "      <td>NaN</td>\n",
       "      <td>NaN</td>\n",
       "      <td>NaN</td>\n",
       "      <td>NaN</td>\n",
       "      <td>NaN</td>\n",
       "      <td>NaN</td>\n",
       "    </tr>\n",
       "    <tr>\n",
       "      <th>D</th>\n",
       "      <td>NaN</td>\n",
       "      <td>NaN</td>\n",
       "      <td>NaN</td>\n",
       "      <td>NaN</td>\n",
       "      <td>NaN</td>\n",
       "      <td>NaN</td>\n",
       "      <td>NaN</td>\n",
       "    </tr>\n",
       "    <tr>\n",
       "      <th>E</th>\n",
       "      <td>NaN</td>\n",
       "      <td>NaN</td>\n",
       "      <td>NaN</td>\n",
       "      <td>NaN</td>\n",
       "      <td>NaN</td>\n",
       "      <td>NaN</td>\n",
       "      <td>NaN</td>\n",
       "    </tr>\n",
       "    <tr>\n",
       "      <th>F</th>\n",
       "      <td>NaN</td>\n",
       "      <td>NaN</td>\n",
       "      <td>NaN</td>\n",
       "      <td>NaN</td>\n",
       "      <td>NaN</td>\n",
       "      <td>NaN</td>\n",
       "      <td>NaN</td>\n",
       "    </tr>\n",
       "    <tr>\n",
       "      <th>G</th>\n",
       "      <td>NaN</td>\n",
       "      <td>NaN</td>\n",
       "      <td>NaN</td>\n",
       "      <td>NaN</td>\n",
       "      <td>NaN</td>\n",
       "      <td>NaN</td>\n",
       "      <td>NaN</td>\n",
       "    </tr>\n",
       "    <tr>\n",
       "      <th>H</th>\n",
       "      <td>NaN</td>\n",
       "      <td>NaN</td>\n",
       "      <td>NaN</td>\n",
       "      <td>NaN</td>\n",
       "      <td>NaN</td>\n",
       "      <td>NaN</td>\n",
       "      <td>NaN</td>\n",
       "    </tr>\n",
       "    <tr>\n",
       "      <th>I</th>\n",
       "      <td>NaN</td>\n",
       "      <td>NaN</td>\n",
       "      <td>NaN</td>\n",
       "      <td>NaN</td>\n",
       "      <td>NaN</td>\n",
       "      <td>NaN</td>\n",
       "      <td>NaN</td>\n",
       "    </tr>\n",
       "    <tr>\n",
       "      <th>J</th>\n",
       "      <td>NaN</td>\n",
       "      <td>NaN</td>\n",
       "      <td>NaN</td>\n",
       "      <td>NaN</td>\n",
       "      <td>NaN</td>\n",
       "      <td>NaN</td>\n",
       "      <td>NaN</td>\n",
       "    </tr>\n",
       "  </tbody>\n",
       "</table>\n",
       "</div>"
      ],
      "text/plain": [
       "  PRIVACY_REQUIREMENT_CONTENT VERTICAL   NC HYBRID   PC REQ_NO HORIZONTAL\n",
       "A                         NaN      NaN  NaN    NaN  NaN    NaN        NaN\n",
       "B                         NaN      NaN  NaN    NaN  NaN    NaN        NaN\n",
       "C                         NaN      NaN  NaN    NaN  NaN    NaN        NaN\n",
       "D                         NaN      NaN  NaN    NaN  NaN    NaN        NaN\n",
       "E                         NaN      NaN  NaN    NaN  NaN    NaN        NaN\n",
       "F                         NaN      NaN  NaN    NaN  NaN    NaN        NaN\n",
       "G                         NaN      NaN  NaN    NaN  NaN    NaN        NaN\n",
       "H                         NaN      NaN  NaN    NaN  NaN    NaN        NaN\n",
       "I                         NaN      NaN  NaN    NaN  NaN    NaN        NaN\n",
       "J                         NaN      NaN  NaN    NaN  NaN    NaN        NaN"
      ]
     },
     "execution_count": 150,
     "metadata": {},
     "output_type": "execute_result"
    }
   ],
   "source": [
    "uc_risk_df"
   ]
  },
  {
   "cell_type": "code",
   "execution_count": null,
   "metadata": {},
   "outputs": [],
   "source": []
  },
  {
   "cell_type": "code",
   "execution_count": null,
   "metadata": {},
   "outputs": [],
   "source": []
  },
  {
   "cell_type": "code",
   "execution_count": null,
   "metadata": {},
   "outputs": [],
   "source": []
  }
 ],
 "metadata": {
  "kernelspec": {
   "display_name": "Python 2",
   "language": "python",
   "name": "python2"
  },
  "language_info": {
   "codemirror_mode": {
    "name": "ipython",
    "version": 2
   },
   "file_extension": ".py",
   "mimetype": "text/x-python",
   "name": "python",
   "nbconvert_exporter": "python",
   "pygments_lexer": "ipython2",
   "version": "2.7.14"
  }
 },
 "nbformat": 4,
 "nbformat_minor": 2
}
